{
  "nbformat": 4,
  "nbformat_minor": 0,
  "metadata": {
    "colab": {
      "provenance": []
    },
    "kernelspec": {
      "name": "python3",
      "display_name": "Python 3"
    },
    "language_info": {
      "name": "python"
    }
  },
  "cells": [
    {
      "cell_type": "markdown",
      "source": [
        "Q1.  What is a RESTful API?\n",
        " - A RESTful API is a way for applications to talk to each other over the internet using HTTP . It follows rules called REST where data is sent and received using standard HTTP methods like GET, POST, PUT, and DELETE.\n",
        "\n",
        "Q2. Explain the concept of API specification?\n",
        " - An API specification is like a blueprint that describes how the API works. It tells developers what endpoints are available, what data should be sent, what will be returned, and what errors might occur. Tools like OpenAPI help create clear API specs for teams to follow.\n",
        "\n",
        "Q3. What is Flask, and why is it popular for building APIs?\n",
        " - Flask is a lightweight Python web framework. It's popular for building APIs because it's simple, flexible, easy to learn, and doesn't force developers to use complex tools or structures. You can quickly set up routes and start handling HTTP requests with minimal code.\n",
        "\n",
        "Q4. What is routing in Flask?\n",
        " - Routing in Flask means mapping a URL (like /home or /api/user) to a function that runs when someone accesses that URL. This helps organize different parts of your website or API.\n"
      ],
      "metadata": {
        "id": "JJPEqagirnTI"
      }
    },
    {
      "cell_type": "code",
      "source": [
        "#Q5. How do you create a RESTful API endpoint using Flask application?\n",
        "from flask import Flask\n",
        "\n",
        "app = Flask(__name__)\n",
        "\n",
        "@app.route('/')\n",
        "def home():\n",
        "    return \"Hello, World!\"\n",
        "\n",
        "if __name__ == '__main__':\n",
        "    app.run()\n"
      ],
      "metadata": {
        "colab": {
          "base_uri": "https://localhost:8080/"
        },
        "id": "BvfDKWcBtjV5",
        "outputId": "676c842e-e27e-4ced-efe0-c9e930d0f8a3"
      },
      "execution_count": null,
      "outputs": [
        {
          "metadata": {
            "tags": null
          },
          "name": "stdout",
          "output_type": "stream",
          "text": [
            " * Serving Flask app '__main__'\n",
            " * Debug mode: off\n"
          ]
        },
        {
          "metadata": {
            "tags": null
          },
          "name": "stderr",
          "output_type": "stream",
          "text": [
            "INFO:werkzeug:\u001b[31m\u001b[1mWARNING: This is a development server. Do not use it in a production deployment. Use a production WSGI server instead.\u001b[0m\n",
            " * Running on http://127.0.0.1:5000\n",
            "INFO:werkzeug:\u001b[33mPress CTRL+C to quit\u001b[0m\n"
          ]
        }
      ]
    },
    {
      "cell_type": "markdown",
      "source": [
        "Q6 . What are HTTP methods used in RESTful APIs?\n",
        " - GET: to retrieve data, POST : to send or create new data, PUT : to update existing data, DELETE : to remove data, PATCH :to update part of the data.\n",
        "\n",
        "Q7.What is the purpose of the @app.route() decorator in Flask?\n",
        " - This decorator connects a URL route (like /login) to a function. When someone visits that route, the function runs and returns a response.\n",
        "\n",
        "Q8. What is the difference between GET and POST HTTP methods?\n",
        " - GET requests are used to fetch data from the server. The data is visible in the URL and POST requests are used to send data to the server. This is often used when submitting forms. The data is hidden from the URL.\n"
      ],
      "metadata": {
        "id": "MVJR5Zz-ttLO"
      }
    },
    {
      "cell_type": "code",
      "source": [
        "#Q9.How do you handle errors in Flask APIs?\n",
        "@app.errorhandler(404)\n",
        "def not_found(error):\n",
        "    return {\"error\": \"Page not found\"}, 404\n"
      ],
      "metadata": {
        "id": "QA8JRINuuxfv"
      },
      "execution_count": null,
      "outputs": []
    },
    {
      "cell_type": "code",
      "source": [
        "#Q10.How do you create a RESTful API endpoint using Flas\n",
        "from flask_sqlalchemy import SQLAlchemy\n",
        "\n",
        "app.config['SQLALCHEMY_DATABASE_URI'] = 'sqlite:///example.db'\n",
        "db = SQLAlchemy(app)\n"
      ],
      "metadata": {
        "id": "wDxCXHOKuCWn"
      },
      "execution_count": null,
      "outputs": []
    },
    {
      "cell_type": "markdown",
      "source": [
        "Q11. What is the role of Flask-SQLAlchemy?\n",
        " - It is an extension that simplifies working with databases in Flask. It lets you define database tables as Python classes and perform queries using Python code.\n",
        "\n",
        "Q12. What are Flask blueprints, and how are they useful?\n",
        " - Blueprints help organize big Flask apps. You can group related routes together into separate files, making your project cleaner and easier to maintain.\n",
        "\n",
        "Q13.What is the purpose of Flask's request object?\n",
        " - The request object gives access to data sent by the client, like form input, JSON data, headers, or query parameters.\n"
      ],
      "metadata": {
        "id": "yTDOR_OSvI-f"
      }
    },
    {
      "cell_type": "code",
      "source": [
        "#Q14.How do you create a RESTful API endpoint using Flask?\n",
        "@app.route('/api/user', methods=['GET'])\n",
        "def get_user():\n",
        "    return {\"name\": \"Sonal\", \"age\": 25}\n"
      ],
      "metadata": {
        "id": "NTVmV7_tvZry"
      },
      "execution_count": null,
      "outputs": []
    },
    {
      "cell_type": "markdown",
      "source": [
        "Q15. What is the purpose of Flask's jsonify() function?\n",
        " - jsonify() turns Python dictionaries or lists into proper JSON responses that APIs can send back to clients.\n",
        "\n",
        "Q16. Explain Flask’s url_for() function?\n",
        " - It generates the URL for a route using the function name. This avoids hardcoding URLs and keeps the app flexible."
      ],
      "metadata": {
        "id": "M-Psz8Xcw_3U"
      }
    },
    {
      "cell_type": "code",
      "source": [
        "#Q17.How does Flask handle static files (CSS, JavaScript, etc.\n",
        "<link rel=\"stylesheet\" href=\"{{ url_for('static', filename='style.css') }}\">\n"
      ],
      "metadata": {
        "id": "STs8A2pqxd8O"
      },
      "execution_count": null,
      "outputs": []
    },
    {
      "cell_type": "markdown",
      "source": [
        "Q18. What is an API specification, and how does it help in building a Flask API?\n",
        " - It defines what the API will do, including routes, input, output, and errors. It helps teams collaborate, ensures consistency, and allows tools to generate documentation or tests automatically.\n",
        "\n",
        "Q19. What are HTTP status codes, and why are they important in a Flask API?\n",
        " - Status codes (like 200 OK, 404 Not Found, 500 Internal Server Error) let the client know what happened with the request. They help in debugging and show whether a request was successful or not.\n"
      ],
      "metadata": {
        "id": "vy7vssaNxqX1"
      }
    },
    {
      "cell_type": "code",
      "source": [
        " #20. How do you handle POST requests in Flask\n",
        " @app.route('/submit', methods=['POST'])\n",
        "def submit():\n",
        "    data = request.json\n",
        "    return jsonify({\"message\": \"Data received\", \"data\": data})\n",
        ""
      ],
      "metadata": {
        "id": "n7JdLyJcx9ud"
      },
      "execution_count": null,
      "outputs": []
    },
    {
      "cell_type": "markdown",
      "source": [
        " Q21. How would you secure a Flask API?\n",
        "  - Use authentication (like tokens or OAuth), Validate user input to avoid attacks,Use HTTPS to encrypt data, Protect against CSRF and XSS, Limit request rates to avoid abuse (rate limiting)\n",
        "\n",
        "Q22. What is the significance of the Flask-RESTful extension?\n",
        " - Flask-RESTful is a tool that makes building REST APIs easier. It adds helpful classes like Resource and simplifies routing, argument parsing, and responses.\n",
        "\n",
        "Q23. What is the role of Flask’s session object?\n",
        " - session is used to store data for a specific user across multiple requests like login status. It keeps user info saved between page loads using cookies.\n"
      ],
      "metadata": {
        "id": "D4Y0baSLyd_m"
      }
    },
    {
      "cell_type": "code",
      "source": [
        "#Q1.  How do you create a basic Flask application?\n",
        "from flask import Flask\n",
        "\n",
        "app = Flask(__name__)\n",
        "\n",
        "@app.route('/')\n",
        "def home():\n",
        "    return \"Hello, Flask!\"\n",
        "\n",
        "if __name__ == '__main__':\n",
        "    app.run(debug=True)\n"
      ],
      "metadata": {
        "id": "yiyhrjr6y7xm"
      },
      "execution_count": null,
      "outputs": []
    },
    {
      "cell_type": "code",
      "source": [
        "#Q2.  How do you serve static files like images or CSS in Flask?\n",
        "<link rel=\"stylesheet\" href=\"{{ url_for('static', filename='style.css') }}\">\n",
        "<img src=\"{{ url_for('static', filename='image.png') }}\">\n"
      ],
      "metadata": {
        "id": "5iC8mEcezKmS"
      },
      "execution_count": null,
      "outputs": []
    },
    {
      "cell_type": "code",
      "source": [
        "#Q3. How do you define different routes with different HTTP methods in Flask?\n",
        "@app.route('/submit', methods=['GET', 'POST'])\n",
        "def submit():\n",
        "    if request.method == 'POST':\n",
        "        return \"Form submitted!\"\n",
        "    return \"Submit page\"\n"
      ],
      "metadata": {
        "id": "opgVMdNCzgDY"
      },
      "execution_count": null,
      "outputs": []
    },
    {
      "cell_type": "code",
      "source": [
        "#Q4.  How do you render HTML templates in Flask?\n",
        "from flask import render_template\n",
        "\n",
        "@app.route('/')\n",
        "def home():\n",
        "    return render_template('index.html')\n"
      ],
      "metadata": {
        "id": "fLwyQZenz3xb"
      },
      "execution_count": null,
      "outputs": []
    },
    {
      "cell_type": "code",
      "source": [
        "#Q5. How can you generate URLs for routes in Flask using url_for?\n",
        "from flask import url_for\n",
        "\n",
        "@app.route('/about')\n",
        "def about():\n",
        "    return \"About Page\"\n",
        "\n",
        "url = url_for('about')\n"
      ],
      "metadata": {
        "id": "vigw88KXz-_D"
      },
      "execution_count": null,
      "outputs": []
    },
    {
      "cell_type": "code",
      "source": [
        "#Q6.  How do you handle forms in Flask?\n",
        "from flask import request\n",
        "\n",
        "@app.route('/login', methods=['POST'])\n",
        "def login():\n",
        "    username = request.form['username']\n",
        "    return f\"Welcome {username}\"\n"
      ],
      "metadata": {
        "id": "kpGxWlU60INI"
      },
      "execution_count": null,
      "outputs": []
    },
    {
      "cell_type": "code",
      "source": [
        "#Q7. How can you validate form data in Flask?\n",
        "from flask_wtf import FlaskForm\n",
        "from wtforms import StringField, SubmitField\n",
        "from wtforms.validators import DataRequired\n",
        "\n",
        "class MyForm(FlaskForm):\n",
        "    name = StringField('Name', validators=[DataRequired()])\n"
      ],
      "metadata": {
        "id": "JLnHL3Wt0VZG"
      },
      "execution_count": null,
      "outputs": []
    },
    {
      "cell_type": "code",
      "source": [
        "#Q8. How do you manage sessions in Flask?\n",
        " from flask import session\n",
        "\n",
        "app.secret_key = 'your_secret_key'\n",
        "\n",
        "@app.route('/set')\n",
        "def set_session():\n",
        "    session['user'] = 'Sonam'\n",
        "    return \"Session set\"\n",
        "\n",
        "@app.route('/get')\n",
        "def get_session():\n",
        "    return session.get('user', 'Not set')\n"
      ],
      "metadata": {
        "id": "Sv3GXtkp0b_A"
      },
      "execution_count": null,
      "outputs": []
    },
    {
      "cell_type": "code",
      "source": [
        "#Q9.How do you redirect to a different route in Flask?\n",
        "from flask import redirect, url_for\n",
        "\n",
        "@app.route('/go')\n",
        "def go():\n",
        "    return redirect(url_for('home'))\n"
      ],
      "metadata": {
        "id": "lSUoSjmL0euK"
      },
      "execution_count": null,
      "outputs": []
    },
    {
      "cell_type": "code",
      "source": [
        "#Q10.  How do you handle errors in Flask (e.g., 404)?\n",
        "@app.errorhandler(404)\n",
        "def not_found(e):\n",
        "    return render_template('404.html'), 404\n"
      ],
      "metadata": {
        "id": "h4nrUtDE0n9L"
      },
      "execution_count": null,
      "outputs": []
    },
    {
      "cell_type": "code",
      "source": [
        "#Q11. How do you structure a Flask app using Blueprints\n",
        "from flask import Blueprint\n",
        "\n",
        "bp = Blueprint('main', __name__)\n",
        "\n",
        "@bp.route('/')\n",
        "def index():\n",
        "    return \"Hello from blueprint!\"\n"
      ],
      "metadata": {
        "id": "B5Qm_g_O0tOf"
      },
      "execution_count": null,
      "outputs": []
    },
    {
      "cell_type": "code",
      "source": [
        "#Q12.How do you define a custom Jinja filter in Flask?\n",
        "@app.template_filter('reverse')\n",
        "def reverse_filter(s):\n",
        "    return s[::-1]\n",
        "\n"
      ],
      "metadata": {
        "id": "SY1xobEk0vsW"
      },
      "execution_count": null,
      "outputs": []
    },
    {
      "cell_type": "code",
      "source": [
        "#Q13. How can you redirect with query parameters in Flask?\n",
        "@app.route('/start')\n",
        "def start():\n",
        "    return redirect(url_for('hello', name='Sonal'))\n",
        "\n",
        "@app.route('/hello')\n",
        "def hello():\n",
        "    name = request.args.get('name')\n",
        "    return f\"Hello, {name}!\"\n"
      ],
      "metadata": {
        "id": "74iJht5w09Ak"
      },
      "execution_count": null,
      "outputs": []
    },
    {
      "cell_type": "code",
      "source": [
        "#Q14. How do you return JSON responses in Flask?\n",
        "from flask import jsonify\n",
        "\n",
        "@app.route('/api/data')\n",
        "def data():\n",
        "    return jsonify({'name': 'Sonal', 'age': 25})\n"
      ],
      "metadata": {
        "id": "A2GMhgAj1C1a"
      },
      "execution_count": null,
      "outputs": []
    },
    {
      "cell_type": "code",
      "source": [
        "#Q15.  How do you capture URL parameters in Flask?\n",
        "@app.route('/user/<username>')\n",
        "def user_profile(username):\n",
        "    return f\"Profile: {username}\"\n"
      ],
      "metadata": {
        "id": "UTCgKkr81FwA"
      },
      "execution_count": null,
      "outputs": []
    }
  ]
}